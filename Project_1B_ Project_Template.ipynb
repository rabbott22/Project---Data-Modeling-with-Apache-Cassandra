{
 "cells": [
  {
   "cell_type": "markdown",
   "metadata": {
    "editable": true
   },
   "source": [
    "# Part I. ETL Pipeline for Pre-Processing the Files"
   ]
  },
  {
   "cell_type": "markdown",
   "metadata": {
    "editable": true
   },
   "source": [
    "## PLEASE RUN THE FOLLOWING CODE FOR PRE-PROCESSING THE FILES"
   ]
  },
  {
   "cell_type": "markdown",
   "metadata": {
    "editable": true
   },
   "source": [
    "#### Import Python packages "
   ]
  },
  {
   "cell_type": "code",
   "execution_count": 1,
   "metadata": {
    "editable": true
   },
   "outputs": [],
   "source": [
    "# Import Python packages \n",
    "import pandas as pd\n",
    "import cassandra\n",
    "import re\n",
    "import os\n",
    "import glob\n",
    "import numpy as np\n",
    "import json\n",
    "import csv"
   ]
  },
  {
   "cell_type": "markdown",
   "metadata": {
    "editable": true
   },
   "source": [
    "#### Creating list of filepaths to process original event csv data files"
   ]
  },
  {
   "cell_type": "code",
   "execution_count": 2,
   "metadata": {
    "editable": true
   },
   "outputs": [
    {
     "name": "stdout",
     "output_type": "stream",
     "text": [
      "/home/workspace\n"
     ]
    }
   ],
   "source": [
    "# checking your current working directory\n",
    "print(os.getcwd())\n",
    "\n",
    "# Get your current folder and subfolder event data\n",
    "filepath = os.getcwd() + '/event_data'\n",
    "\n",
    "# Create a for loop to create a list of files and collect each filepath\n",
    "for root, dirs, files in os.walk(filepath):\n",
    "    \n",
    "# join the file path and roots with the subdirectories using glob\n",
    "    file_path_list = glob.glob(os.path.join(root,'*'))\n",
    "    #print(file_path_list)"
   ]
  },
  {
   "cell_type": "markdown",
   "metadata": {
    "editable": true
   },
   "source": [
    "#### Processing the files to create the data file csv that will be used for Apache Casssandra tables"
   ]
  },
  {
   "cell_type": "code",
   "execution_count": 3,
   "metadata": {
    "editable": true
   },
   "outputs": [],
   "source": [
    "# initiating an empty list of rows that will be generated from each file\n",
    "full_data_rows_list = [] \n",
    "    \n",
    "# for every filepath in the file path list \n",
    "for f in file_path_list:\n",
    "\n",
    "# reading csv file \n",
    "    with open(f, 'r', encoding = 'utf8', newline='') as csvfile: \n",
    "        # creating a csv reader object \n",
    "        csvreader = csv.reader(csvfile) \n",
    "        next(csvreader)\n",
    "        \n",
    " # extracting each data row one by one and append it        \n",
    "        for line in csvreader:\n",
    "            #print(line)\n",
    "            full_data_rows_list.append(line) \n",
    "            \n",
    "# uncomment the code below if you would like to get total number of rows \n",
    "#print(len(full_data_rows_list))\n",
    "# uncomment the code below if you would like to check to see what the list of event data rows will look like\n",
    "#print(full_data_rows_list)\n",
    "\n",
    "# creating a smaller event data csv file called event_datafile_full csv that will be used to insert data into the \\\n",
    "# Apache Cassandra tables\n",
    "csv.register_dialect('myDialect', quoting=csv.QUOTE_ALL, skipinitialspace=True)\n",
    "\n",
    "with open('event_datafile_new.csv', 'w', encoding = 'utf8', newline='') as f:\n",
    "    writer = csv.writer(f, dialect='myDialect')\n",
    "    writer.writerow(['artist','firstName','gender','itemInSession','lastName','length',\\\n",
    "                'level','location','sessionId','song','userId'])\n",
    "    for row in full_data_rows_list:\n",
    "        if (row[0] == ''):\n",
    "            continue\n",
    "        writer.writerow((row[0], row[2], row[3], row[4], row[5], row[6], row[7], row[8], row[12], row[13], row[16]))\n"
   ]
  },
  {
   "cell_type": "code",
   "execution_count": 4,
   "metadata": {
    "editable": true
   },
   "outputs": [
    {
     "name": "stdout",
     "output_type": "stream",
     "text": [
      "6821\n"
     ]
    }
   ],
   "source": [
    "# check the number of rows in your csv file\n",
    "with open('event_datafile_new.csv', 'r', encoding = 'utf8') as f:\n",
    "    print(sum(1 for line in f))"
   ]
  },
  {
   "cell_type": "markdown",
   "metadata": {
    "editable": true
   },
   "source": [
    "# Part II. Transform and Load the Processed Data into Apache Cassandra \n",
    "\n",
    "## The processed data is contained in the CSV file titled <font color=red>event_datafile_new.csv</font>, located within the Workspace directory.  The event_datafile_new.csv contains the following columns:\n",
    "\n",
    "- artist \n",
    "- firstName of user\n",
    "- gender of user\n",
    "- item number in session\n",
    "- last name of user\n",
    "- length of the song\n",
    "- level (paid or free song)\n",
    "- location of the user\n",
    "- sessionId\n",
    "- song title\n",
    "- userId\n",
    "\n",
    "The screenshot below shows how the denormalized data should appear in the <font color=red>**event_datafile_new.csv**</font> after the code in __Part I__ is run:<br>\n",
    "\n",
    "<img src=\"images/image_event_datafile_new.jpg\">"
   ]
  },
  {
   "cell_type": "markdown",
   "metadata": {
    "editable": true
   },
   "source": [
    "#### Create a Cluster"
   ]
  },
  {
   "cell_type": "code",
   "execution_count": 5,
   "metadata": {
    "editable": true
   },
   "outputs": [],
   "source": [
    "# This should make a connection to a Cassandra instance on your local machine \n",
    "# (127.0.0.1)\n",
    "\n",
    "from cassandra.cluster import Cluster\n",
    "cluster = Cluster(['127.0.0.1'])\n",
    "\n",
    "# To establish connection and begin executing queries, need a session\n",
    "session = cluster.connect()"
   ]
  },
  {
   "cell_type": "markdown",
   "metadata": {
    "editable": true
   },
   "source": [
    "#### Create Keyspace"
   ]
  },
  {
   "cell_type": "code",
   "execution_count": 6,
   "metadata": {
    "editable": true
   },
   "outputs": [
    {
     "data": {
      "text/plain": [
       "<cassandra.cluster.ResultSet at 0x7f78bf79acc0>"
      ]
     },
     "execution_count": 6,
     "metadata": {},
     "output_type": "execute_result"
    }
   ],
   "source": [
    "# Create a Keyspace \n",
    "session.execute(\"\"\"\n",
    "CREATE KEYSPACE IF NOT EXISTS sparkifyks \n",
    "WITH REPLICATION = \n",
    "{ 'class' : 'SimpleStrategy', 'replication_factor' : 1 }\"\"\"\n",
    ")"
   ]
  },
  {
   "cell_type": "markdown",
   "metadata": {
    "editable": true
   },
   "source": [
    "#### Set Keyspace"
   ]
  },
  {
   "cell_type": "code",
   "execution_count": 7,
   "metadata": {
    "editable": true
   },
   "outputs": [],
   "source": [
    "# Set KEYSPACE to the keyspace specified above\n",
    "session.set_keyspace('sparkifyks')"
   ]
  },
  {
   "cell_type": "markdown",
   "metadata": {
    "editable": true
   },
   "source": [
    "## Create queries to ask the following three questions of the data, beginning with CREATE TABLE statements."
   ]
  },
  {
   "cell_type": "markdown",
   "metadata": {
    "editable": true
   },
   "source": [
    "### 1. Give me the artist, song title and song's length in the music app history that was heard during  sessionId = 338, and itemInSession  = 4\n",
    "\n",
    "The data fields required here are artist name (artist), song title (song), song duration (length). The artist and song name values vary significantly in size and character type (including some special characters), so allowing for a free-form UTF-8 encoded string was the best choice for these.  For the song duration (length) I considered specifying the numerical precision and scale, as the values seemed somewhat constant, but decided a variable-precision decimal would be better as the values could fluctuate.   \n",
    "\n",
    "For this query, the known values used to identify the requisite records are sessionId and itemInSession, so these should be used in the PRIMARY KEY to create the table.  The sessionId value is the PARTITION KEY because each user login session must contain one or more songs (itemInSession), i.e. the songs are grouped by sessionId (a playlist).  The itemInSession value is the CLUSTERING KEY because the song(s) played during a user login session (playlist) are sorted by it's \"item\" number."
   ]
  },
  {
   "cell_type": "code",
   "execution_count": 9,
   "metadata": {
    "editable": true
   },
   "outputs": [],
   "source": [
    "query = \"CREATE TABLE IF NOT EXISTS song_playlist_duration \"\n",
    "query = query + \"(sessionId int, itemInSession smallint, artist text, \\\n",
    "song text, length decimal, PRIMARY KEY (sessionId, itemInSession))\"\n",
    "try:\n",
    "    session.execute(query)\n",
    "except Exception as e:\n",
    "    print(e)"
   ]
  },
  {
   "cell_type": "markdown",
   "metadata": {
    "editable": true
   },
   "source": [
    "### 2. Give me only the following: name of artist, song (sorted by itemInSession) and user (first and last name) for userid = 10, sessionid = 182\n",
    "\n",
    "The data fields required for this table are artist name (artist), song title (song), login session (sessionId), song play in session (itemInSession) and user name (firstName, lastName). The artist and song name values vary significantly in size and character type (including some special characters), so allowing for a free-form UTF-8 encoded string was the best choice for these.  The userId and sessionId values could grow significantly over time, so a 32-bit int seemed appropriate.  The itemInSession numerical values will be persistently small so a 2-byte smallint data type was chosen.\n",
    "\n",
    "Here, the known values are userId and sessionId and so these should appear in the PRIMARY KEY.  Because both values must be used to identify a unique record, they should comprise a COMPOSITE KEY for the PARTITION KEY.  The query requires that the songs in the session (playlist) be in sorted order by itemInSession, so this field is included in the PRIMARY KEY as a CLUSTERING KEY. "
   ]
  },
  {
   "cell_type": "code",
   "execution_count": 10,
   "metadata": {
    "editable": true
   },
   "outputs": [],
   "source": [
    "query = \"CREATE TABLE IF NOT EXISTS song_playlist_session \"\n",
    "query = query + \"(userId int, sessionId int, itemInSession smallint, \\\n",
    "artist text, song text, userFirstName varchar, userLastName varchar, \\\n",
    "PRIMARY KEY ((userId, sessionId), itemInSession))\"\n",
    "try:\n",
    "    session.execute(query)\n",
    "except Exception as e:\n",
    "    print(e)"
   ]
  },
  {
   "cell_type": "markdown",
   "metadata": {
    "editable": true
   },
   "source": [
    "### 3. Give me every user name (first and last) in my music app history who listened to the song 'All Hands Against His Own'\n",
    "\n",
    "In this query the identifying value is the song name, so this is included as the PARTITION KEY in the PRIMARY KEY.  Because it is possible that users may have the same first and last names, it is also necessary to include the userId value in the query, and to include this value as the CLUSTERING KEY in the PRIMARY KEY."
   ]
  },
  {
   "cell_type": "code",
   "execution_count": 11,
   "metadata": {
    "editable": true
   },
   "outputs": [],
   "source": [
    "query = \"CREATE TABLE IF NOT EXISTS song_playlist_user \"\n",
    "query = query + \"(song text, userFirstName varchar, userLastName varchar, userId int, PRIMARY KEY (song, userId))\"\n",
    "try:\n",
    "    session.execute(query)\n",
    "except Exception as e:\n",
    "    print(e)"
   ]
  },
  {
   "cell_type": "markdown",
   "metadata": {
    "editable": true
   },
   "source": [
    "#### Read the data from the source CSV file <font color=red>**event_datafile_new.csv**</font> and load it into the associated fields in each of the three tables created above."
   ]
  },
  {
   "cell_type": "code",
   "execution_count": 12,
   "metadata": {
    "editable": true
   },
   "outputs": [],
   "source": [
    "file = 'event_datafile_new.csv'\n",
    "\n",
    "with open(file, encoding = 'utf8') as f:\n",
    "    csvreader = csv.reader(f)\n",
    "    next(csvreader) # skip header\n",
    "    ## Read each line in the CSV file and execute an INSERT CQL statement for each of the three tables.\n",
    "    for line in csvreader:\n",
    "        ## Form the query and assign to a variable\n",
    "        query = \"INSERT INTO song_playlist_duration (sessionId, itemInSession, artist, song, length)\"\n",
    "        query = query + \" VALUES (%s, %s, %s, %s, %s)\"\n",
    "        ## Assign the line elements to their associated table columns in the query, and execute\n",
    "        try:\n",
    "            session.execute(query, (int(line[8]), int(line[3]), line[0], line[9], np.float(line[5])))\n",
    "        except Exception as e:\n",
    "            print(e)\n",
    "        ## Form the query and assign to a variable\n",
    "        query = \"INSERT INTO song_playlist_session (userId, sessionId, itemInSession, artist, song, userFirstName, userLastName)\"\n",
    "        query = query + \" VALUES (%s, %s, %s, %s, %s, %s, %s)\"\n",
    "        ## Assign the line elements to their associated table columns in the query, and execute\n",
    "        try:\n",
    "            session.execute(query, (int(line[10]), int(line[8]), int(line[3]), line[0], line[9], line[1], line[4]))\n",
    "        except Exception as e:\n",
    "            print(e)\n",
    "        ## Form the query and assign to a variable\n",
    "        query = \"INSERT INTO song_playlist_user (song, userId, userFirstName, userLastName)\"\n",
    "        query = query + \" VALUES (%s, %s, %s, %s)\"\n",
    "        ## Assign the line elements to their associated table columns in the query, and execute\n",
    "        try:\n",
    "            session.execute(query, (line[9], int(line[10]), line[1], line[4]))\n",
    "        except Exception as e:\n",
    "            print(e)"
   ]
  },
  {
   "cell_type": "markdown",
   "metadata": {
    "editable": true
   },
   "source": [
    "#### Execute a SELECT statement on each of the three tables to verify that the data have been inserted."
   ]
  },
  {
   "cell_type": "code",
   "execution_count": 13,
   "metadata": {
    "editable": true,
    "scrolled": true
   },
   "outputs": [
    {
     "name": "stdout",
     "output_type": "stream",
     "text": [
      "--- SAMPLE DATA FROM song_playlist_duration TABLE --- \n",
      "\n",
      "Row(sessionid=23, iteminsession=0, artist='Regina Spektor', length=Decimal('191.08526'), song='The Calculation (Album Version)')\n",
      "Row(sessionid=23, iteminsession=1, artist='Octopus Project', length=Decimal('250.95791'), song='All Of The Champs That Ever Lived')\n",
      "Row(sessionid=23, iteminsession=2, artist='Tegan And Sara', length=Decimal('180.06159'), song='So Jealous')\n",
      "Row(sessionid=23, iteminsession=3, artist='Dragonette', length=Decimal('153.39057'), song='Okay Dolores')\n",
      "Row(sessionid=23, iteminsession=4, artist='Lil Wayne / Eminem', length=Decimal('229.58975'), song='Drop The World')\n",
      "\n",
      " --- SAMPLE DATA FROM song_playlist_session TABLE --- \n",
      "\n",
      "Row(userid=58, sessionid=768, iteminsession=0, artist='System of a Down', song='Sad Statue', userfirstname='Emily', userlastname='Benson')\n",
      "Row(userid=58, sessionid=768, iteminsession=1, artist='Ghostland Observatory', song='Stranger Lover', userfirstname='Emily', userlastname='Benson')\n",
      "Row(userid=58, sessionid=768, iteminsession=2, artist='Evergreen Terrace', song='Zero', userfirstname='Emily', userlastname='Benson')\n",
      "Row(userid=85, sessionid=776, iteminsession=2, artist='Deftones', song='Head Up (LP Version)', userfirstname='Kinsley', userlastname='Young')\n",
      "Row(userid=85, sessionid=776, iteminsession=3, artist='The Notorious B.I.G.', song='Playa Hater (Amended Version)', userfirstname='Kinsley', userlastname='Young')\n",
      "\n",
      "--- SAMPLE DATA FROM song_playlist_user TABLE --- \n",
      "\n",
      "Row(song=\"Wonder What's Next\", userid=49, userfirstname='Chloe', userlastname='Cuevas')\n",
      "Row(song=\"In The Dragon's Den\", userid=49, userfirstname='Chloe', userlastname='Cuevas')\n",
      "Row(song='Too Tough (1994 Digital Remaster)', userid=44, userfirstname='Aleena', userlastname='Kirby')\n",
      "Row(song='Rio De Janeiro Blue (Album Version)', userid=49, userfirstname='Chloe', userlastname='Cuevas')\n",
      "Row(song='My Place', userid=15, userfirstname='Lily', userlastname='Koch')\n"
     ]
    }
   ],
   "source": [
    "## Select values from all columns but limit the result set to five records\n",
    "query = \"SELECT * FROM song_playlist_duration LIMIT 5\"\n",
    "try:\n",
    "    rows = session.execute(query)\n",
    "except Exception as e:\n",
    "    print(e)\n",
    "## Include separator between result sets\n",
    "print(\"--- SAMPLE DATA FROM song_playlist_duration TABLE --- \\n\")\n",
    "for row in rows:\n",
    "    print(row)\n",
    "    \n",
    "## Select values from all columns but limit the returned data set to five records\n",
    "query = \"SELECT * FROM song_playlist_session LIMIT 5\"\n",
    "try:\n",
    "    rows = session.execute(query)\n",
    "except Exception as e:\n",
    "    print(e)\n",
    "## Include separator between result sets\n",
    "print(\"\\n --- SAMPLE DATA FROM song_playlist_session TABLE --- \\n\")\n",
    "for row in rows:\n",
    "    print(row)\n",
    "\n",
    "## Select values from all columns but limit the returned data set to five records\n",
    "query = \"SELECT * FROM song_playlist_user LIMIT 5\"\n",
    "try:\n",
    "    rows = session.execute(query)\n",
    "except Exception as e:\n",
    "    print(e)\n",
    "## Include separator between result sets\n",
    "print(\"\\n--- SAMPLE DATA FROM song_playlist_user TABLE --- \\n\")\n",
    "for row in rows:\n",
    "    print(row)"
   ]
  },
  {
   "cell_type": "markdown",
   "metadata": {
    "editable": true
   },
   "source": [
    "### Execute SELECT statements to fulfill the result sets required by the three questions posed above."
   ]
  },
  {
   "cell_type": "markdown",
   "metadata": {
    "editable": true
   },
   "source": [
    "__Query 1__:  Give me the artist, song title and song's length in the music app history that was heard during sessionId = 338, and itemInSession = 4"
   ]
  },
  {
   "cell_type": "code",
   "execution_count": 14,
   "metadata": {
    "editable": true
   },
   "outputs": [
    {
     "name": "stdout",
     "output_type": "stream",
     "text": [
      "artist | song | length | sessionid | iteminsession\n",
      "Faithless | Music Matters (Mark Knight Dub) | 495.3073 | 338 | 4\n"
     ]
    }
   ],
   "source": [
    "query = \"SELECT artist, song, length, sessionId, itemInSession FROM song_playlist_duration WHERE sessionId=338 AND itemInSession=4\"\n",
    "try:\n",
    "    rows = session.execute(query)\n",
    "except Exception as e:\n",
    "    print(e)\n",
    "\n",
    "## Print a header row of column names for better result set readability, including column delineation\n",
    "print(rows.column_names[0], \"|\", rows.column_names[1], \"|\", rows.column_names[2], \"|\", rows.column_names[3], \"|\", rows.column_names[4])\n",
    "\n",
    "## Print each row from the result set\n",
    "for row in rows:\n",
    "    print(row.artist, \"|\", row.song, \"|\", row.length, \"|\", row.sessionid, \"|\", row.iteminsession)"
   ]
  },
  {
   "cell_type": "markdown",
   "metadata": {
    "editable": true
   },
   "source": [
    "__Query 2__: Give me only the following: name of artist, song (sorted by itemInSession) and user (first and last name) for userid = 10, sessionid = 182"
   ]
  },
  {
   "cell_type": "code",
   "execution_count": 15,
   "metadata": {
    "editable": true
   },
   "outputs": [
    {
     "name": "stdout",
     "output_type": "stream",
     "text": [
      "artist | song | userfirstname | userlastname | iteminsession\n",
      "Down To The Bone | Keep On Keepin' On | Sylvie | Cruz | 0\n",
      "Three Drives | Greece 2000 | Sylvie | Cruz | 1\n",
      "Sebastien Tellier | Kilometer | Sylvie | Cruz | 2\n",
      "Lonnie Gordon | Catch You Baby (Steve Pitron & Max Sanna Radio Edit) | Sylvie | Cruz | 3\n"
     ]
    }
   ],
   "source": [
    "query = \"SELECT artist, song, userFirstName, userLastName, itemInSession FROM song_playlist_session WHERE userId=10 AND sessionId=182 ORDER BY itemInSession\"\n",
    "try:\n",
    "    rows = session.execute(query)\n",
    "except Exception as e:\n",
    "    print(e)\n",
    "\n",
    "## Print a header row of column names for better result set readability, including column delineation\n",
    "print(rows.column_names[0], \"|\", rows.column_names[1], \"|\", rows.column_names[2], \"|\", rows.column_names[3], \"|\", rows.column_names[4])\n",
    "\n",
    "## Print each row from the result set\n",
    "for row in rows:\n",
    "    print(row.artist, \"|\", row.song, \"|\", row.userfirstname, \"|\", row.userlastname, \"|\", row.iteminsession)"
   ]
  },
  {
   "cell_type": "markdown",
   "metadata": {
    "editable": true
   },
   "source": [
    "__Query 3__: Give me every user name (first and last) in my music app history who listened to the song 'All Hands Against His Own'"
   ]
  },
  {
   "cell_type": "code",
   "execution_count": 16,
   "metadata": {
    "editable": true
   },
   "outputs": [
    {
     "name": "stdout",
     "output_type": "stream",
     "text": [
      "song | userid | userfirstname | userlastname\n",
      "All Hands Against His Own | 29 | Jacqueline | Lynch\n",
      "All Hands Against His Own | 80 | Tegan | Levine\n",
      "All Hands Against His Own | 95 | Sara | Johnson\n"
     ]
    }
   ],
   "source": [
    "query = \"SELECT song, userId, userFirstName, userLastName FROM song_playlist_user WHERE song = 'All Hands Against His Own'\"\n",
    "try:\n",
    "    rows = session.execute(query)\n",
    "except Exception as e:\n",
    "    print(e)\n",
    "    \n",
    "## Print a header row of column names for better result set readability, including column delineation\n",
    "print(rows.column_names[0], \"|\", rows.column_names[1], \"|\", rows.column_names[2], \"|\", rows.column_names[3])\n",
    "\n",
    "## Print each row from the result set\n",
    "for row in rows:\n",
    "    print(row.song, \"|\", row.userid, \"|\", row.userfirstname, \"|\", row.userlastname)"
   ]
  },
  {
   "cell_type": "markdown",
   "metadata": {
    "editable": true
   },
   "source": [
    "### Drop the tables before closing out the session"
   ]
  },
  {
   "cell_type": "code",
   "execution_count": 17,
   "metadata": {
    "editable": true
   },
   "outputs": [],
   "source": [
    "query = \"DROP TABLE IF EXISTS song_playlist_duration\"\n",
    "try:\n",
    "    rows = session.execute(query)\n",
    "except Exception as e:\n",
    "    print(e)\n",
    "    \n",
    "query = \"DROP TABLE IF EXISTS song_playlist_session\"\n",
    "try:\n",
    "    rows = session.execute(query)\n",
    "except Exception as e:\n",
    "    print(e)\n",
    "    \n",
    "query = \"DROP TABLE IF EXISTS song_playlist_user\"\n",
    "try:\n",
    "    rows = session.execute(query)\n",
    "except Exception as e:\n",
    "    print(e)"
   ]
  },
  {
   "cell_type": "markdown",
   "metadata": {
    "editable": true
   },
   "source": [
    "### Close the session and cluster connection"
   ]
  },
  {
   "cell_type": "code",
   "execution_count": 18,
   "metadata": {
    "editable": true
   },
   "outputs": [],
   "source": [
    "session.shutdown()\n",
    "cluster.shutdown()"
   ]
  },
  {
   "cell_type": "code",
   "execution_count": null,
   "metadata": {
    "editable": true
   },
   "outputs": [],
   "source": []
  }
 ],
 "metadata": {
  "kernelspec": {
   "display_name": "Python 3",
   "language": "python",
   "name": "python3"
  },
  "language_info": {
   "codemirror_mode": {
    "name": "ipython",
    "version": 3
   },
   "file_extension": ".py",
   "mimetype": "text/x-python",
   "name": "python",
   "nbconvert_exporter": "python",
   "pygments_lexer": "ipython3",
   "version": "3.6.3"
  }
 },
 "nbformat": 4,
 "nbformat_minor": 4
}
